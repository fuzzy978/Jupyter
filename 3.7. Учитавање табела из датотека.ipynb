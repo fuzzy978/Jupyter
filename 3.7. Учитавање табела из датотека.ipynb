{
 "cells": [
  {
   "cell_type": "markdown",
   "metadata": {},
   "source": [
    "# Учитавање табела из датотека"
   ]
  },
  {
   "cell_type": "markdown",
   "metadata": {},
   "source": [
    "## Задатак 1\n",
    "1. Учитати csv датотеку са https://raw.githubusercontent.com/cs109/2014_data/master/countries.csv\n",
    "2. Приказати првих 15 редова табеле.\n",
    "3. Приказати последњих 7 редова табеле."
   ]
  },
  {
   "cell_type": "code",
   "execution_count": null,
   "metadata": {},
   "outputs": [],
   "source": []
  },
  {
   "cell_type": "markdown",
   "metadata": {},
   "source": [
    "## Задатак 2\n",
    "1. Учитати csv датотеку ucenici.csv.\n",
    "2. Приказати следеће податке:\n",
    "    - највећу оцену у одељењу,\n",
    "    - најмању оцену у одељењу,\n",
    "    - просечну оцену одељења."
   ]
  },
  {
   "cell_type": "code",
   "execution_count": null,
   "metadata": {},
   "outputs": [],
   "source": []
  }
 ],
 "metadata": {
  "kernelspec": {
   "display_name": "Python 3",
   "language": "python",
   "name": "python3"
  },
  "language_info": {
   "codemirror_mode": {
    "name": "ipython",
    "version": 3
   },
   "file_extension": ".py",
   "mimetype": "text/x-python",
   "name": "python",
   "nbconvert_exporter": "python",
   "pygments_lexer": "ipython3",
   "version": "3.8.5"
  }
 },
 "nbformat": 4,
 "nbformat_minor": 4
}
