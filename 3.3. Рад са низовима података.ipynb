{
 "cells": [
  {
   "cell_type": "markdown",
   "metadata": {},
   "source": [
    "# Рад са низовима података"
   ]
  },
  {
   "cell_type": "markdown",
   "metadata": {},
   "source": [
    "## Задатак 1\n",
    "1. Унеси низ ocene са оценама које имаш из Математике.\n",
    "2. Откуцај sum(ocene), па потом min(ocene) и на крају max(ocene). Не заборави да после уноса садржаја у ћелију притиснеш Run."
   ]
  },
  {
   "cell_type": "code",
   "execution_count": null,
   "metadata": {},
   "outputs": [],
   "source": []
  },
  {
   "cell_type": "markdown",
   "metadata": {},
   "source": [
    "## Задатак 2\n",
    "1. Дефиниши функцију prosek(N) која враћа просечну вредност низа. Просек се рачуна као количник збира свих елемената низа и броја елемената низа.\n",
    "2. Искористи дефинисану функцију prosek да израчунаш своје оцене из Математике."
   ]
  },
  {
   "cell_type": "code",
   "execution_count": null,
   "metadata": {},
   "outputs": [],
   "source": []
  },
  {
   "cell_type": "markdown",
   "metadata": {},
   "source": [
    "## Задатак 3\n",
    "1. Унеси низ са температурама ваздуха за 10 дана и израчунај просечну температуру.\n",
    "2. Унеси низ са просечним оценама на полугодишту својих другара из одељења и израчунај просечну оцену одељења. Просечну оцену заокружи на 2 децимале."
   ]
  },
  {
   "cell_type": "code",
   "execution_count": null,
   "metadata": {},
   "outputs": [],
   "source": []
  },
  {
   "cell_type": "markdown",
   "metadata": {},
   "source": [
    "## Задатак 4\n",
    "1. Сортирај низ ucenici са презименима и именима ученика из свог одељења од Ш до А."
   ]
  },
  {
   "cell_type": "code",
   "execution_count": null,
   "metadata": {},
   "outputs": [],
   "source": []
  },
  {
   "cell_type": "markdown",
   "metadata": {},
   "source": [
    "## Задатак 5\n",
    "1. Унеси низ са бодовима 50 ученика на такмичењу из Математике.\n",
    "2. Одреди колико ученика има више од 70 бодова."
   ]
  },
  {
   "cell_type": "code",
   "execution_count": null,
   "metadata": {},
   "outputs": [],
   "source": []
  },
  {
   "cell_type": "markdown",
   "metadata": {},
   "source": [
    "## Задатак 6\n",
    "1. Креирај низ са вредностима 25 рачуна који учествују у наградној игри.\n",
    "2. Израчунај просечну вредност унетих рачуна.\n",
    "3. Креирај низ nagrade са рачунима који су већи од просечне вредности свих унетих рачуна.\n",
    "4. Одреди колико ће се награда доделити."
   ]
  },
  {
   "cell_type": "code",
   "execution_count": null,
   "metadata": {},
   "outputs": [],
   "source": []
  }
 ],
 "metadata": {
  "kernelspec": {
   "display_name": "Python 3",
   "language": "python",
   "name": "python3"
  },
  "language_info": {
   "codemirror_mode": {
    "name": "ipython",
    "version": 3
   },
   "file_extension": ".py",
   "mimetype": "text/x-python",
   "name": "python",
   "nbconvert_exporter": "python",
   "pygments_lexer": "ipython3",
   "version": "3.8.5"
  }
 },
 "nbformat": 4,
 "nbformat_minor": 4
}
